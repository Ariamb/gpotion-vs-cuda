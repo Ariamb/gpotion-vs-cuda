{
  "nbformat": 4,
  "nbformat_minor": 0,
  "metadata": {
    "colab": {
      "provenance": [],
      "gpuType": "T4",
      "authorship_tag": "ABX9TyMa2OlZD3aoNE3eIrm3tm0u",
      "include_colab_link": true
    },
    "kernelspec": {
      "name": "python3",
      "display_name": "Python 3"
    },
    "language_info": {
      "name": "python"
    },
    "accelerator": "GPU"
  },
  "cells": [
    {
      "cell_type": "markdown",
      "metadata": {
        "id": "view-in-github",
        "colab_type": "text"
      },
      "source": [
        "<a href=\"https://colab.research.google.com/github/Ariamb/gpotion-vs-cuda/blob/main/CUDA_dot_product.ipynb\" target=\"_parent\"><img src=\"https://colab.research.google.com/assets/colab-badge.svg\" alt=\"Open In Colab\"/></a>"
      ]
    },
    {
      "cell_type": "code",
      "execution_count": null,
      "metadata": {
        "colab": {
          "base_uri": "https://localhost:8080/"
        },
        "id": "yGJ2wZmYtRxY",
        "outputId": "b339cbdd-40b9-4b87-ac7b-a8eb3f7c2c59"
      },
      "outputs": [
        {
          "output_type": "stream",
          "name": "stdout",
          "text": [
            "Tue Jun 27 17:55:02 2023       \n",
            "+-----------------------------------------------------------------------------+\n",
            "| NVIDIA-SMI 525.85.12    Driver Version: 525.85.12    CUDA Version: 12.0     |\n",
            "|-------------------------------+----------------------+----------------------+\n",
            "| GPU  Name        Persistence-M| Bus-Id        Disp.A | Volatile Uncorr. ECC |\n",
            "| Fan  Temp  Perf  Pwr:Usage/Cap|         Memory-Usage | GPU-Util  Compute M. |\n",
            "|                               |                      |               MIG M. |\n",
            "|===============================+======================+======================|\n",
            "|   0  Tesla T4            Off  | 00000000:00:04.0 Off |                    0 |\n",
            "| N/A   59C    P8    10W /  70W |      0MiB / 15360MiB |      0%      Default |\n",
            "|                               |                      |                  N/A |\n",
            "+-------------------------------+----------------------+----------------------+\n",
            "                                                                               \n",
            "+-----------------------------------------------------------------------------+\n",
            "| Processes:                                                                  |\n",
            "|  GPU   GI   CI        PID   Type   Process name                  GPU Memory |\n",
            "|        ID   ID                                                   Usage      |\n",
            "|=============================================================================|\n",
            "|  No running processes found                                                 |\n",
            "+-----------------------------------------------------------------------------+\n",
            "nvcc: NVIDIA (R) Cuda compiler driver\n",
            "Copyright (c) 2005-2022 NVIDIA Corporation\n",
            "Built on Wed_Sep_21_10:33:58_PDT_2022\n",
            "Cuda compilation tools, release 11.8, V11.8.89\n",
            "Build cuda_11.8.r11.8/compiler.31833905_0\n",
            "Collecting git+https://github.com/andreinechaev/nvcc4jupyter.git\n",
            "  Cloning https://github.com/andreinechaev/nvcc4jupyter.git to /tmp/pip-req-build-lhru06_y\n",
            "  Running command git clone --filter=blob:none --quiet https://github.com/andreinechaev/nvcc4jupyter.git /tmp/pip-req-build-lhru06_y\n",
            "  Resolved https://github.com/andreinechaev/nvcc4jupyter.git to commit aac710a35f52bb78ab34d2e52517237941399eff\n",
            "  Preparing metadata (setup.py) ... \u001b[?25l\u001b[?25hdone\n",
            "Building wheels for collected packages: NVCCPlugin\n",
            "  Building wheel for NVCCPlugin (setup.py) ... \u001b[?25l\u001b[?25hdone\n",
            "  Created wheel for NVCCPlugin: filename=NVCCPlugin-0.0.2-py3-none-any.whl size=4287 sha256=03168252e3cc82c917b05a9068dc665420a500f2179c92d20152964455d619d5\n",
            "  Stored in directory: /tmp/pip-ephem-wheel-cache-e_1kwyp5/wheels/a8/b9/18/23f8ef71ceb0f63297dd1903aedd067e6243a68ea756d6feea\n",
            "Successfully built NVCCPlugin\n",
            "Installing collected packages: NVCCPlugin\n",
            "Successfully installed NVCCPlugin-0.0.2\n",
            "created output directory at /content/src\n",
            "Out bin /content/result.out\n"
          ]
        }
      ],
      "source": [
        "!nvidia-smi\n",
        "!nvcc --version\n",
        "!pip install git+https://github.com/andreinechaev/nvcc4jupyter.git\n",
        "%load_ext nvcc_plugin"
      ]
    },
    {
      "cell_type": "code",
      "source": [
        "%%cu\n",
        "#include <iostream>\n",
        "int main(){\n",
        "  std::cout << \"testing cuda\\n\";\n",
        "  return 0;\n",
        "}"
      ],
      "metadata": {
        "colab": {
          "base_uri": "https://localhost:8080/"
        },
        "id": "ipU9GjSzvG0k",
        "outputId": "ec1e4955-e66f-4a71-ebbb-236e8a4d48b3"
      },
      "execution_count": null,
      "outputs": [
        {
          "output_type": "stream",
          "name": "stdout",
          "text": [
            "testing cuda\n",
            "\n"
          ]
        }
      ]
    },
    {
      "cell_type": "code",
      "source": [
        "%%cu\n",
        "#include <stdio.h>\n",
        "#define imin(a,b) (a<b?a:b)\n",
        "\n",
        "const int N = 33 * 1024;\n",
        "const int threadsPerBlock = 256;\n",
        "const int blocksPerGrid = imin(32, (N+threadsPerBlock-1) / threadsPerBlock);\n",
        "\n",
        "__global__ void dot(float* a, float* b, float* c) {\n",
        "\t__shared__ float cache[threadsPerBlock];\n",
        "\tint tid = threadIdx.x + blockIdx.x * blockDim.x;\n",
        "\tint cacheIndex = threadIdx.x;\n",
        "\n",
        "\tfloat temp = 0;\n",
        "\twhile (tid < N){\n",
        "\t\ttemp += a[tid] * b[tid];\n",
        "\t\ttid += blockDim.x * gridDim.x;\n",
        "\t}\n",
        "\n",
        "\t// set the cache values\n",
        "\tcache[cacheIndex] = temp;\n",
        "\n",
        "\t// synchronize threads in this block\n",
        "\t__syncthreads();\n",
        "\n",
        "\t// for reductions, threadsPerBlock must be a power of 2\n",
        "\t// because of the following code\n",
        "\tint i = blockDim.x/2;\n",
        "\twhile (i != 0){\n",
        "\t\tif (cacheIndex < i)\n",
        "\t\t\tcache[cacheIndex] += cache[cacheIndex + i];\n",
        "\t\t__syncthreads();\n",
        "\t\ti /= 2;\n",
        "\t}\n",
        "\n",
        "\tif (cacheIndex == 0)\n",
        "\t\tc[blockIdx.x] = cache[0];\n",
        "}\n",
        "\n",
        "\n",
        "int main (void) {\n",
        "\tfloat *a, *b, c, *partial_c;\n",
        "\tfloat *dev_a, *dev_b, *dev_partial_c;\n",
        "\n",
        "\t// allocate memory on the cpu side\n",
        "\ta = (float*)malloc(N*sizeof(float));\n",
        "\tb = (float*)malloc(N*sizeof(float));\n",
        "\tpartial_c = (float*)malloc(blocksPerGrid*sizeof(float));\n",
        "\n",
        "\t// allocate the memory on the gpu\n",
        "\tcudaMalloc((void**)&dev_a, N*sizeof(float));\n",
        "\tcudaMalloc((void**)&dev_b, N*sizeof(float));\n",
        "\tcudaMalloc((void**)&dev_partial_c, blocksPerGrid*sizeof(float));\n",
        "\n",
        "\t// fill in the host mempory with data\n",
        "\tfor(int i=0; i<N; i++) {\n",
        "\t\ta[i] = i;\n",
        "\t\tb[i] = i*2;\n",
        "\t}\n",
        "\n",
        "\n",
        "\t// copy the arrays 'a' and 'b' to the gpu\n",
        "\tcudaMemcpy(dev_a, a, N*sizeof(float), cudaMemcpyHostToDevice);\n",
        "\tcudaMemcpy(dev_b, b, N*sizeof(float), cudaMemcpyHostToDevice);\n",
        "\n",
        "\tdot<<<blocksPerGrid, threadsPerBlock>>>(dev_a, dev_b, dev_partial_c);\n",
        "\n",
        "\t// copy the array 'c' back from the gpu to the cpu\n",
        "\tcudaMemcpy(partial_c,dev_partial_c, blocksPerGrid*sizeof(float), cudaMemcpyDeviceToHost);\n",
        "\n",
        "\t// finish up on the cpu side\n",
        "\tc = 0;\n",
        "\tfor(int i=0; i<blocksPerGrid; i++) {\n",
        "\t\tc += partial_c[i];\n",
        "\t}\n",
        "\n",
        "\t#define sum_squares(x) (x*(x+1)*(2*x+1)/6)\n",
        "\tprintf(\"Does GPU value %.6g = %.6g?\\n\", c, 2*sum_squares((float)(N-1)));\n",
        "\n",
        "\t// free memory on the gpu side\n",
        "\tcudaFree(dev_a);\n",
        "\tcudaFree(dev_b);\n",
        "\tcudaFree(dev_partial_c);\n",
        "\n",
        "\t// free memory on the cpu side\n",
        "\tfree(a);\n",
        "\tfree(b);\n",
        "\tfree(partial_c);\n",
        "}"
      ],
      "metadata": {
        "colab": {
          "base_uri": "https://localhost:8080/"
        },
        "id": "2OrSZf22veN7",
        "outputId": "a62d5e63-e064-4456-ce8b-7497a39f682e"
      },
      "execution_count": null,
      "outputs": [
        {
          "output_type": "stream",
          "name": "stdout",
          "text": [
            "Does GPU value 2.57236e+13 = 2.57236e+13?\n",
            "\n"
          ]
        }
      ]
    }
  ]
}